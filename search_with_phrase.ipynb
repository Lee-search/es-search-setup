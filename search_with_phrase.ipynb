{
 "cells": [
  {
   "cell_type": "markdown",
   "id": "7f7009d0-e786-429d-8f3b-b28d563606b0",
   "metadata": {
    "pycharm": {
     "name": "#%% md\n"
    }
   },
   "source": [
    "## Elasticsearch Main Source Code"
   ]
  },
  {
   "cell_type": "markdown",
   "id": "e1a19c9f-1b24-47ef-a189-cc5aed7dcf24",
   "metadata": {
    "tags": [],
    "pycharm": {
     "name": "#%% md\n"
    }
   },
   "source": [
    "### Find Phrase"
   ]
  },
  {
   "cell_type": "code",
   "execution_count": 1,
   "id": "f2487857-f453-45dd-ad37-98506ba73f0f",
   "metadata": {
    "pycharm": {
     "name": "#%%\n"
    }
   },
   "outputs": [
    {
     "name": "stdout",
     "output_type": "stream",
     "text": [
      "Count: 75\n",
      "Topic: ['anaplastic astrocytoma', 'urinary retention', 'chronic pain', 'anaplastic astrocytoma', 'urinary retention', 'anaplastic astrocytoma']\n"
     ]
    }
   ],
   "source": [
    "from Files_to_topics import get_phrases\n",
    "\n",
    "path = \"./topics/2021_query_CT_edit.xml\"\n",
    "phrase_query = get_phrases(path)\n",
    "\n",
    "print(f\"Count: {len(phrase_query)}\")\n",
    "print(f\"Topic: {phrase_query[0]}\")"
   ]
  },
  {
   "cell_type": "markdown",
   "id": "1cc7307d-7325-44e7-a985-94efb393e0ec",
   "metadata": {
    "pycharm": {
     "name": "#%% md\n"
    }
   },
   "source": [
    "### Find Topics"
   ]
  },
  {
   "cell_type": "code",
   "execution_count": 2,
   "id": "0c4fcbc3-fb3c-4ea6-a77a-3d3943bdbe8f",
   "metadata": {
    "tags": [],
    "pycharm": {
     "name": "#%%\n"
    }
   },
   "outputs": [
    {
     "name": "stdout",
     "output_type": "stream",
     "text": [
      "Count: 75\n",
      "Topic: \n",
      "Patient is a 45-year-old man with a history of anaplastic astrocytoma of the spine complicated by severe lower extremity weakness and urinary retention s/p Foley catheter, high-dose steroids, hypertension, and chronic pain. The tumor is located in the T-L spine, unresectable anaplastic astrocytoma s/p radiation. Complicated by progressive lower extremity weakness and urinary retention. Patient initially presented with RLE weakness where his right knee gave out with difficulty walking and right anterior thigh numbness. MRI showed a spinal cord conus mass which was biopsied and found to be anaplastic astrocytoma. Therapy included field radiation t10-l1 followed by 11 cycles of temozolomide 7 days on and 7 days off. This was followed by CPT-11 Weekly x4 with Avastin Q2 weeks/ 2 weeks rest and repeat cycle. \n",
      "\n"
     ]
    }
   ],
   "source": [
    "from Files_to_topics import get_topics\n",
    "\n",
    "path = \"./topics/topics2021.xml\"\n",
    "topics = get_topics(path)\n",
    "    \n",
    "print(f\"Count: {len(topics)}\")\n",
    "print(f\"Topic: {topics[0]}\")"
   ]
  },
  {
   "cell_type": "markdown",
   "id": "91d30c84-238f-4e97-b803-3fdd69726340",
   "metadata": {
    "tags": [],
    "pycharm": {
     "name": "#%% md\n"
    }
   },
   "source": [
    "### Find patient's information"
   ]
  },
  {
   "cell_type": "code",
   "execution_count": 3,
   "id": "1e784e27-724a-47c1-9f02-612ba982b238",
   "metadata": {
    "pycharm": {
     "name": "#%%\n"
    }
   },
   "outputs": [
    {
     "name": "stdout",
     "output_type": "stream",
     "text": [
      "Gender: Male\n",
      "Year: 45\n"
     ]
    }
   ],
   "source": [
    "## We don't use this part in search now.\n",
    "\n",
    "from Topics_to_patients import get_genders\n",
    "\n",
    "gender_query = get_genders(topics)\n",
    "print(f\"Gender: {gender_query[0]}\")\n",
    "\n",
    "from Topics_to_patients import get_years\n",
    "\n",
    "year_query = get_years(topics)\n",
    "print(f\"Year: {year_query[0]}\")"
   ]
  },
  {
   "cell_type": "markdown",
   "id": "77fab10c-dbfd-490a-8f99-087b3b477094",
   "metadata": {
    "pycharm": {
     "name": "#%% md\n"
    }
   },
   "source": [
    "### Elasticsearch#1 Making Query"
   ]
  },
  {
   "cell_type": "code",
   "execution_count": 4,
   "id": "1d52b20d-1556-4972-9ce6-1ff9d9ec131f",
   "metadata": {
    "pycharm": {
     "name": "#%%\n"
    }
   },
   "outputs": [],
   "source": [
    "from elasticsearch import Elasticsearch\n",
    "\n",
    "urls = [\"http://210.117.182.30:9200\"]\n",
    "es_host = Elasticsearch(urls, request_timeout=60)\n",
    "\n",
    "# The list of fields to search\n",
    "es_fields = [\"brief_title\",\n",
    "            \"brief_summary\",\n",
    "            \"detailed_description\",\n",
    "            \"inclusion_criteria^1.5\",\n",
    "            \"exclusion_criteria\"]\n",
    "\n",
    "# The name of index\n",
    "es_index = \"idx-clinical-study-v5\""
   ]
  },
  {
   "cell_type": "code",
   "execution_count": 5,
   "id": "908fa709-1b82-47c6-a383-c9b932081f8c",
   "metadata": {
    "tags": [],
    "pycharm": {
     "name": "#%%\n"
    }
   },
   "outputs": [],
   "source": [
    "from Query_functions import get_should_list\n",
    "\n",
    "# es_bodies: Specific query for each topic\n",
    "es_bodies = []\n",
    "for i in range(len(topics)):\n",
    "    phrases = get_should_list(phrase_query[i], es_fields)\n",
    "    body = {\n",
    "        \"from\" : 0,\n",
    "        \"size\" : 1000,\n",
    "        \"_source\": [\"nct_id\"], \n",
    "        \"query\": {\n",
    "            \"bool\": {\n",
    "                \"must\": [\n",
    "                    { \"multi_match\": { \"query\": topics[i], \"fields\": es_fields, \"analyzer\": \"std_analyzer\"} },\n",
    "                ],\n",
    "                \"should\": phrases\n",
    "            }\n",
    "        }\n",
    "    }\n",
    "    es_bodies.append(body)"
   ]
  },
  {
   "cell_type": "code",
   "execution_count": 6,
   "id": "c82c618a-6fbd-45a8-90b5-c7a7bf06b04b",
   "metadata": {
    "tags": [],
    "pycharm": {
     "name": "#%%\n"
    }
   },
   "outputs": [
    {
     "data": {
      "text/plain": [
       "{'from': 0,\n",
       " 'size': 1000,\n",
       " '_source': ['nct_id'],\n",
       " 'query': {'bool': {'must': [{'multi_match': {'query': '\\nPatient is a 45-year-old man with a history of anaplastic astrocytoma of the spine complicated by severe lower extremity weakness and urinary retention s/p Foley catheter, high-dose steroids, hypertension, and chronic pain. The tumor is located in the T-L spine, unresectable anaplastic astrocytoma s/p radiation. Complicated by progressive lower extremity weakness and urinary retention. Patient initially presented with RLE weakness where his right knee gave out with difficulty walking and right anterior thigh numbness. MRI showed a spinal cord conus mass which was biopsied and found to be anaplastic astrocytoma. Therapy included field radiation t10-l1 followed by 11 cycles of temozolomide 7 days on and 7 days off. This was followed by CPT-11 Weekly x4 with Avastin Q2 weeks/ 2 weeks rest and repeat cycle. \\n',\n",
       "      'fields': ['brief_title',\n",
       "       'brief_summary',\n",
       "       'detailed_description',\n",
       "       'inclusion_criteria^1.5',\n",
       "       'exclusion_criteria'],\n",
       "      'analyzer': 'std_analyzer'}}],\n",
       "   'should': [{'match_phrase': {'brief_title': {'query': 'anaplastic astrocytoma',\n",
       "       'slop': 2,\n",
       "       'boost': 3}}},\n",
       "    {'match_phrase': {'brief_title': {'query': 'anaplastic astrocytoma',\n",
       "       'slop': 20,\n",
       "       'boost': 3}}},\n",
       "    {'match_phrase': {'brief_summary': {'query': 'anaplastic astrocytoma',\n",
       "       'slop': 2,\n",
       "       'boost': 3}}},\n",
       "    {'match_phrase': {'brief_summary': {'query': 'anaplastic astrocytoma',\n",
       "       'slop': 20,\n",
       "       'boost': 3}}},\n",
       "    {'match_phrase': {'brief_title': {'query': 'urinary retention',\n",
       "       'slop': 2,\n",
       "       'boost': 2}}},\n",
       "    {'match_phrase': {'brief_title': {'query': 'urinary retention',\n",
       "       'slop': 20,\n",
       "       'boost': 2}}},\n",
       "    {'match_phrase': {'brief_summary': {'query': 'urinary retention',\n",
       "       'slop': 2,\n",
       "       'boost': 2}}},\n",
       "    {'match_phrase': {'brief_summary': {'query': 'urinary retention',\n",
       "       'slop': 20,\n",
       "       'boost': 2}}},\n",
       "    {'match_phrase': {'brief_title': {'query': 'chronic pain',\n",
       "       'slop': 2,\n",
       "       'boost': 1}}},\n",
       "    {'match_phrase': {'brief_title': {'query': 'chronic pain',\n",
       "       'slop': 20,\n",
       "       'boost': 1}}},\n",
       "    {'match_phrase': {'brief_summary': {'query': 'chronic pain',\n",
       "       'slop': 2,\n",
       "       'boost': 1}}},\n",
       "    {'match_phrase': {'brief_summary': {'query': 'chronic pain',\n",
       "       'slop': 20,\n",
       "       'boost': 1}}}]}}}"
      ]
     },
     "execution_count": 6,
     "metadata": {},
     "output_type": "execute_result"
    }
   ],
   "source": [
    "es_bodies[0]"
   ]
  },
  {
   "cell_type": "markdown",
   "id": "cb689f4c-3ce5-4771-b5f1-89e3470e7a25",
   "metadata": {
    "pycharm": {
     "name": "#%% md\n"
    }
   },
   "source": [
    "### Elasticsearch#2 Search & Get responses"
   ]
  },
  {
   "cell_type": "code",
   "execution_count": 7,
   "id": "be92909f-6324-4a88-ba2d-be3130e7941e",
   "metadata": {
    "pycharm": {
     "name": "#%%\n"
    }
   },
   "outputs": [
    {
     "name": "stderr",
     "output_type": "stream",
     "text": [
      "  0%|          | 0/75 [00:00<?, ?it/s]/home/ukyoung/anaconda3/envs/ukyoung/lib/python3.6/site-packages/elasticsearch/connection/base.py:190: ElasticsearchDeprecationWarning: Elasticsearch built-in security features are not enabled. Without authentication, your cluster could be accessible to anyone. See https://www.elastic.co/guide/en/elasticsearch/reference/7.17/security-minimal-setup.html to enable security.\n",
      "  warnings.warn(message, category=ElasticsearchDeprecationWarning)\n",
      "100%|██████████| 75/75 [04:26<00:00,  3.55s/it]\n"
     ]
    },
    {
     "data": {
      "text/plain": [
       "{'_index': 'idx-clinical-study-v5',\n",
       " '_type': '_doc',\n",
       " '_id': 'NCT02041169',\n",
       " '_score': 67.84117,\n",
       " '_source': {'nct_id': ['NCT02041169']}}"
      ]
     },
     "execution_count": 7,
     "metadata": {},
     "output_type": "execute_result"
    }
   ],
   "source": [
    "from tqdm import tqdm\n",
    "\n",
    "es_responses = []\n",
    "\n",
    "for i in tqdm(range(len(topics))):\n",
    "    res = es_host.search(index=es_index, body=es_bodies[i])\n",
    "    es_responses.append(res.get(\"hits\").get(\"hits\"))\n",
    "\n",
    "# 1번째 토픽의 1000번째 검색결과\n",
    "es_responses[0][999]"
   ]
  },
  {
   "cell_type": "code",
   "execution_count": 8,
   "id": "c0efc5b7-92d1-4853-985d-3d67b0eb4a43",
   "metadata": {
    "pycharm": {
     "name": "#%%\n"
    }
   },
   "outputs": [
    {
     "name": "stdout",
     "output_type": "stream",
     "text": [
      "ID, Score: 75\n",
      "ID, Score: ('NCT02041169', 67.84117)\n"
     ]
    }
   ],
   "source": [
    "result_list = []\n",
    "\n",
    "for res in es_responses: # 75개\n",
    "    results = [] # list of (id, score)\n",
    "    \n",
    "    for doc in res: # 1000개\n",
    "        id = doc.get('_source').get('nct_id')[0]\n",
    "        score = doc.get('_score')\n",
    "        results.append((id, score))\n",
    "    \n",
    "    result_list.append(results)\n",
    "    \n",
    "print(f\"ID, Score: {len(result_list)}\")\n",
    "print(f\"ID, Score: {result_list[0][999]}\")"
   ]
  },
  {
   "cell_type": "markdown",
   "id": "f17a9764-f9df-433c-bb4a-2001ab511396",
   "metadata": {
    "tags": [],
    "pycharm": {
     "name": "#%% md\n"
    }
   },
   "source": [
    "### TREC Evaluation"
   ]
  },
  {
   "cell_type": "code",
   "execution_count": 9,
   "id": "8468307d-0b99-4908-b9ce-6e0f1035d58a",
   "metadata": {
    "tags": [],
    "pycharm": {
     "name": "#%%\n"
    }
   },
   "outputs": [
    {
     "name": "stdout",
     "output_type": "stream",
     "text": [
      "/home2/ukyoung/es_search_py\n"
     ]
    }
   ],
   "source": [
    "# TOPIC_NO Q0 ID RANK SCORE RUN_NAME\n",
    "# TOPIC_NO: 질의 번호\n",
    "# ID: 문서 번호\n",
    "# RANK: 문서 등수 (1~1000등까지 문서 점수 순으로 출력, 최대 문서는 1000개까지)\n",
    "# SCORE: 문서 점수\n",
    "# RUN_NAME: 검색 결과 이름 (알파벳 12자까지 가능)\n",
    "# ex) 1 Q0 NCT00760162 1 0.9999 my-run\n",
    "def write_result_file(file, topic_no, result):  \n",
    "    for i, (id, score) in enumerate(result):\n",
    "        i += 1\n",
    "        file.write(f\"{topic_no} Q0 {id} {i} {score} {run_name}\\n\")\n",
    "        \n",
    "def make_dir(dir_name):\n",
    "    if not os.path.exists(dir_name):\n",
    "        os.makedirs(dir_name)\n",
    "\n",
    "import os\n",
    "\n",
    "# RUN and SAVE file name\n",
    "run_name = \"BM25_default\"\n",
    "\n",
    "path_now = os.getcwd()\n",
    "print(path_now)"
   ]
  },
  {
   "cell_type": "code",
   "execution_count": 10,
   "id": "edc3ee9c-b9cb-4a07-9675-807824d6bee6",
   "metadata": {
    "pycharm": {
     "name": "#%%\n"
    }
   },
   "outputs": [
    {
     "name": "stdout",
     "output_type": "stream",
     "text": [
      "runid                 \tall\tBM25_default\n",
      "num_q                 \tall\t75\n",
      "num_ret               \tall\t75000\n",
      "num_rel               \tall\t11589\n",
      "num_rel_ret           \tall\t4545\n",
      "map                   \tall\t0.1370\n",
      "Rprec                 \tall\t0.1939\n",
      "P_10                  \tall\t0.4333\n",
      "ndcg_cut_10           \tall\t0.3330\n"
     ]
    }
   ],
   "source": [
    "trec_eval_path = '/home2/ukyoung/my-trec/trec_eval-9.0.7'\n",
    "\n",
    "make_dir('results')\n",
    "result_file = f'{path_now}/results/{run_name}.txt'\n",
    "qrels_file = f'{trec_eval_path}/qrels/qrels2021.txt'\n",
    "\n",
    "#print(f\"Result File is.. {result_file}\")\n",
    "#print(f\"Relevance File is.. {qrels_file}\")\n",
    "#print(f\"TREC_eval Path is.. {trec_eval_path}\")\n",
    "\n",
    "with open(result_file, 'w') as file:\n",
    "    topic_no = 1\n",
    "\n",
    "    for each_result in result_list:\n",
    "        write_result_file(file, topic_no, each_result)\n",
    "        topic_no += 1\n",
    "\n",
    "# trac_eval 경로로 이동\n",
    "os.chdir(trec_eval_path)\n",
    "\n",
    "# 질의별 보기: -q\n",
    "# 모든 정보 검색 평가 방식 보기: -m all_trec\n",
    "#command = f\"./trec_eval -q -m all_trec {qrels_file} {result_file}\"\n",
    "command = f\"./trec_eval -m all_trec {qrels_file} {result_file}\"\n",
    "\n",
    "stream = os.popen(command)\n",
    "eval_results = stream.read()\n",
    "\n",
    "e = eval_results.split('\\n')\n",
    "\n",
    "show_list = 0,1,2,3,4,5,7,22,59\n",
    "for s in show_list:\n",
    "    print(e[s])"
   ]
  },
  {
   "cell_type": "markdown",
   "id": "2be55b8d-e005-48ca-91ed-92c64604ded8",
   "metadata": {
    "pycharm": {
     "name": "#%% md\n"
    }
   },
   "source": [
    "### Save as text File"
   ]
  },
  {
   "cell_type": "code",
   "execution_count": 11,
   "id": "e4faee3a-7bf2-49de-b5ff-16981150e9f0",
   "metadata": {
    "pycharm": {
     "name": "#%%\n"
    }
   },
   "outputs": [],
   "source": [
    "# 파이썬 실행 경로로 이동\n",
    "os.chdir(path_now)\n",
    "make_dir('trec_evals')\n",
    "eval_path = f\"{path_now}/trec_evals/{run_name}.txt\"\n",
    "\n",
    "with open(eval_path, 'w') as file:\n",
    "    file.write(eval_results)\n",
    "    #print(eval_results)"
   ]
  },
  {
   "cell_type": "code",
   "execution_count": null,
   "id": "c9f5ef26-b670-40a8-adca-1ca10f48d272",
   "metadata": {
    "pycharm": {
     "name": "#%%\n"
    }
   },
   "outputs": [],
   "source": []
  }
 ],
 "metadata": {
  "kernelspec": {
   "display_name": "Python 3",
   "language": "python",
   "name": "python3"
  },
  "language_info": {
   "codemirror_mode": {
    "name": "ipython",
    "version": 3
   },
   "file_extension": ".py",
   "mimetype": "text/x-python",
   "name": "python",
   "nbconvert_exporter": "python",
   "pygments_lexer": "ipython3",
   "version": "3.6.13"
  }
 },
 "nbformat": 4,
 "nbformat_minor": 5
}